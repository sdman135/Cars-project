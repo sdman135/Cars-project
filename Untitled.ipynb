{
 "cells": [
  {
   "cell_type": "code",
   "execution_count": 1,
   "metadata": {
    "ExecuteTime": {
     "end_time": "2021-03-14T17:32:21.953034Z",
     "start_time": "2021-03-14T17:32:18.582971Z"
    }
   },
   "outputs": [],
   "source": [
    "import pandas as pd\n",
    "import numpy as np\n",
    "import matplotlib.pyplot as plt\n",
    "import seaborn as sns\n",
    "\n",
    "# modeling imports\n",
    "from sklearn.linear_model import LinearRegression"
   ]
  },
  {
   "cell_type": "code",
   "execution_count": 2,
   "metadata": {
    "ExecuteTime": {
     "end_time": "2021-03-14T17:32:22.014978Z",
     "start_time": "2021-03-14T17:32:21.955968Z"
    }
   },
   "outputs": [
    {
     "data": {
      "text/html": [
       "<div>\n",
       "<style scoped>\n",
       "    .dataframe tbody tr th:only-of-type {\n",
       "        vertical-align: middle;\n",
       "    }\n",
       "\n",
       "    .dataframe tbody tr th {\n",
       "        vertical-align: top;\n",
       "    }\n",
       "\n",
       "    .dataframe thead th {\n",
       "        text-align: right;\n",
       "    }\n",
       "</style>\n",
       "<table border=\"1\" class=\"dataframe\">\n",
       "  <thead>\n",
       "    <tr style=\"text-align: right;\">\n",
       "      <th></th>\n",
       "      <th>Unnamed: 0</th>\n",
       "      <th>symboling</th>\n",
       "      <th>normalized-losses</th>\n",
       "      <th>make</th>\n",
       "      <th>body-style</th>\n",
       "      <th>wheel-base</th>\n",
       "      <th>length</th>\n",
       "      <th>width</th>\n",
       "      <th>height</th>\n",
       "      <th>curb-weight</th>\n",
       "      <th>...</th>\n",
       "      <th>drive-wheels-4wd</th>\n",
       "      <th>drive-wheels-fwd</th>\n",
       "      <th>drive-wheels-rwd</th>\n",
       "      <th>num-of-cylinders-eight</th>\n",
       "      <th>num-of-cylinders-five</th>\n",
       "      <th>num-of-cylinders-four</th>\n",
       "      <th>num-of-cylinders-six</th>\n",
       "      <th>num-of-cylinders-three</th>\n",
       "      <th>num-of-cylinders-twelve</th>\n",
       "      <th>num-of-cylinders-two</th>\n",
       "    </tr>\n",
       "  </thead>\n",
       "  <tbody>\n",
       "    <tr>\n",
       "      <td>0</td>\n",
       "      <td>0</td>\n",
       "      <td>3</td>\n",
       "      <td>122</td>\n",
       "      <td>alfa-romero</td>\n",
       "      <td>convertible</td>\n",
       "      <td>88.6</td>\n",
       "      <td>0.811148</td>\n",
       "      <td>0.890278</td>\n",
       "      <td>0.816054</td>\n",
       "      <td>2548</td>\n",
       "      <td>...</td>\n",
       "      <td>0</td>\n",
       "      <td>0</td>\n",
       "      <td>1</td>\n",
       "      <td>0</td>\n",
       "      <td>0</td>\n",
       "      <td>1</td>\n",
       "      <td>0</td>\n",
       "      <td>0</td>\n",
       "      <td>0</td>\n",
       "      <td>0</td>\n",
       "    </tr>\n",
       "    <tr>\n",
       "      <td>1</td>\n",
       "      <td>1</td>\n",
       "      <td>3</td>\n",
       "      <td>122</td>\n",
       "      <td>alfa-romero</td>\n",
       "      <td>convertible</td>\n",
       "      <td>88.6</td>\n",
       "      <td>0.811148</td>\n",
       "      <td>0.890278</td>\n",
       "      <td>0.816054</td>\n",
       "      <td>2548</td>\n",
       "      <td>...</td>\n",
       "      <td>0</td>\n",
       "      <td>0</td>\n",
       "      <td>1</td>\n",
       "      <td>0</td>\n",
       "      <td>0</td>\n",
       "      <td>1</td>\n",
       "      <td>0</td>\n",
       "      <td>0</td>\n",
       "      <td>0</td>\n",
       "      <td>0</td>\n",
       "    </tr>\n",
       "    <tr>\n",
       "      <td>2</td>\n",
       "      <td>2</td>\n",
       "      <td>1</td>\n",
       "      <td>122</td>\n",
       "      <td>alfa-romero</td>\n",
       "      <td>hatchback</td>\n",
       "      <td>94.5</td>\n",
       "      <td>0.822681</td>\n",
       "      <td>0.909722</td>\n",
       "      <td>0.876254</td>\n",
       "      <td>2823</td>\n",
       "      <td>...</td>\n",
       "      <td>0</td>\n",
       "      <td>0</td>\n",
       "      <td>1</td>\n",
       "      <td>0</td>\n",
       "      <td>0</td>\n",
       "      <td>0</td>\n",
       "      <td>1</td>\n",
       "      <td>0</td>\n",
       "      <td>0</td>\n",
       "      <td>0</td>\n",
       "    </tr>\n",
       "    <tr>\n",
       "      <td>3</td>\n",
       "      <td>3</td>\n",
       "      <td>2</td>\n",
       "      <td>164</td>\n",
       "      <td>audi</td>\n",
       "      <td>sedan</td>\n",
       "      <td>99.8</td>\n",
       "      <td>0.848630</td>\n",
       "      <td>0.919444</td>\n",
       "      <td>0.908027</td>\n",
       "      <td>2337</td>\n",
       "      <td>...</td>\n",
       "      <td>0</td>\n",
       "      <td>1</td>\n",
       "      <td>0</td>\n",
       "      <td>0</td>\n",
       "      <td>0</td>\n",
       "      <td>1</td>\n",
       "      <td>0</td>\n",
       "      <td>0</td>\n",
       "      <td>0</td>\n",
       "      <td>0</td>\n",
       "    </tr>\n",
       "    <tr>\n",
       "      <td>4</td>\n",
       "      <td>4</td>\n",
       "      <td>2</td>\n",
       "      <td>164</td>\n",
       "      <td>audi</td>\n",
       "      <td>sedan</td>\n",
       "      <td>99.4</td>\n",
       "      <td>0.848630</td>\n",
       "      <td>0.922222</td>\n",
       "      <td>0.908027</td>\n",
       "      <td>2824</td>\n",
       "      <td>...</td>\n",
       "      <td>1</td>\n",
       "      <td>0</td>\n",
       "      <td>0</td>\n",
       "      <td>0</td>\n",
       "      <td>1</td>\n",
       "      <td>0</td>\n",
       "      <td>0</td>\n",
       "      <td>0</td>\n",
       "      <td>0</td>\n",
       "      <td>0</td>\n",
       "    </tr>\n",
       "  </tbody>\n",
       "</table>\n",
       "<p>5 rows × 39 columns</p>\n",
       "</div>"
      ],
      "text/plain": [
       "   Unnamed: 0  symboling  normalized-losses         make   body-style  \\\n",
       "0           0          3                122  alfa-romero  convertible   \n",
       "1           1          3                122  alfa-romero  convertible   \n",
       "2           2          1                122  alfa-romero    hatchback   \n",
       "3           3          2                164         audi        sedan   \n",
       "4           4          2                164         audi        sedan   \n",
       "\n",
       "   wheel-base    length     width    height  curb-weight  ...  \\\n",
       "0        88.6  0.811148  0.890278  0.816054         2548  ...   \n",
       "1        88.6  0.811148  0.890278  0.816054         2548  ...   \n",
       "2        94.5  0.822681  0.909722  0.876254         2823  ...   \n",
       "3        99.8  0.848630  0.919444  0.908027         2337  ...   \n",
       "4        99.4  0.848630  0.922222  0.908027         2824  ...   \n",
       "\n",
       "  drive-wheels-4wd  drive-wheels-fwd drive-wheels-rwd  num-of-cylinders-eight  \\\n",
       "0                0                 0                1                       0   \n",
       "1                0                 0                1                       0   \n",
       "2                0                 0                1                       0   \n",
       "3                0                 1                0                       0   \n",
       "4                1                 0                0                       0   \n",
       "\n",
       "   num-of-cylinders-five  num-of-cylinders-four  num-of-cylinders-six  \\\n",
       "0                      0                      1                     0   \n",
       "1                      0                      1                     0   \n",
       "2                      0                      0                     1   \n",
       "3                      0                      1                     0   \n",
       "4                      1                      0                     0   \n",
       "\n",
       "   num-of-cylinders-three  num-of-cylinders-twelve  num-of-cylinders-two  \n",
       "0                       0                        0                     0  \n",
       "1                       0                        0                     0  \n",
       "2                       0                        0                     0  \n",
       "3                       0                        0                     0  \n",
       "4                       0                        0                     0  \n",
       "\n",
       "[5 rows x 39 columns]"
      ]
     },
     "execution_count": 2,
     "metadata": {},
     "output_type": "execute_result"
    }
   ],
   "source": [
    "df = pd.read_csv('clean_df_with_dummy.csv')\n",
    "df.head()"
   ]
  },
  {
   "cell_type": "code",
   "execution_count": 3,
   "metadata": {
    "ExecuteTime": {
     "end_time": "2021-03-14T17:32:22.045968Z",
     "start_time": "2021-03-14T17:32:22.016969Z"
    },
    "scrolled": true
   },
   "outputs": [
    {
     "data": {
      "text/html": [
       "<div>\n",
       "<style scoped>\n",
       "    .dataframe tbody tr th:only-of-type {\n",
       "        vertical-align: middle;\n",
       "    }\n",
       "\n",
       "    .dataframe tbody tr th {\n",
       "        vertical-align: top;\n",
       "    }\n",
       "\n",
       "    .dataframe thead th {\n",
       "        text-align: right;\n",
       "    }\n",
       "</style>\n",
       "<table border=\"1\" class=\"dataframe\">\n",
       "  <thead>\n",
       "    <tr style=\"text-align: right;\">\n",
       "      <th></th>\n",
       "      <th>symboling</th>\n",
       "      <th>normalized-losses</th>\n",
       "      <th>make</th>\n",
       "      <th>body-style</th>\n",
       "      <th>wheel-base</th>\n",
       "      <th>length</th>\n",
       "      <th>width</th>\n",
       "      <th>height</th>\n",
       "      <th>curb-weight</th>\n",
       "      <th>engine-type</th>\n",
       "      <th>...</th>\n",
       "      <th>drive-wheels-4wd</th>\n",
       "      <th>drive-wheels-fwd</th>\n",
       "      <th>drive-wheels-rwd</th>\n",
       "      <th>num-of-cylinders-eight</th>\n",
       "      <th>num-of-cylinders-five</th>\n",
       "      <th>num-of-cylinders-four</th>\n",
       "      <th>num-of-cylinders-six</th>\n",
       "      <th>num-of-cylinders-three</th>\n",
       "      <th>num-of-cylinders-twelve</th>\n",
       "      <th>num-of-cylinders-two</th>\n",
       "    </tr>\n",
       "  </thead>\n",
       "  <tbody>\n",
       "    <tr>\n",
       "      <td>0</td>\n",
       "      <td>3</td>\n",
       "      <td>122</td>\n",
       "      <td>alfa-romero</td>\n",
       "      <td>convertible</td>\n",
       "      <td>88.6</td>\n",
       "      <td>0.811148</td>\n",
       "      <td>0.890278</td>\n",
       "      <td>0.816054</td>\n",
       "      <td>2548</td>\n",
       "      <td>dohc</td>\n",
       "      <td>...</td>\n",
       "      <td>0</td>\n",
       "      <td>0</td>\n",
       "      <td>1</td>\n",
       "      <td>0</td>\n",
       "      <td>0</td>\n",
       "      <td>1</td>\n",
       "      <td>0</td>\n",
       "      <td>0</td>\n",
       "      <td>0</td>\n",
       "      <td>0</td>\n",
       "    </tr>\n",
       "    <tr>\n",
       "      <td>1</td>\n",
       "      <td>3</td>\n",
       "      <td>122</td>\n",
       "      <td>alfa-romero</td>\n",
       "      <td>convertible</td>\n",
       "      <td>88.6</td>\n",
       "      <td>0.811148</td>\n",
       "      <td>0.890278</td>\n",
       "      <td>0.816054</td>\n",
       "      <td>2548</td>\n",
       "      <td>dohc</td>\n",
       "      <td>...</td>\n",
       "      <td>0</td>\n",
       "      <td>0</td>\n",
       "      <td>1</td>\n",
       "      <td>0</td>\n",
       "      <td>0</td>\n",
       "      <td>1</td>\n",
       "      <td>0</td>\n",
       "      <td>0</td>\n",
       "      <td>0</td>\n",
       "      <td>0</td>\n",
       "    </tr>\n",
       "    <tr>\n",
       "      <td>2</td>\n",
       "      <td>1</td>\n",
       "      <td>122</td>\n",
       "      <td>alfa-romero</td>\n",
       "      <td>hatchback</td>\n",
       "      <td>94.5</td>\n",
       "      <td>0.822681</td>\n",
       "      <td>0.909722</td>\n",
       "      <td>0.876254</td>\n",
       "      <td>2823</td>\n",
       "      <td>ohcv</td>\n",
       "      <td>...</td>\n",
       "      <td>0</td>\n",
       "      <td>0</td>\n",
       "      <td>1</td>\n",
       "      <td>0</td>\n",
       "      <td>0</td>\n",
       "      <td>0</td>\n",
       "      <td>1</td>\n",
       "      <td>0</td>\n",
       "      <td>0</td>\n",
       "      <td>0</td>\n",
       "    </tr>\n",
       "    <tr>\n",
       "      <td>3</td>\n",
       "      <td>2</td>\n",
       "      <td>164</td>\n",
       "      <td>audi</td>\n",
       "      <td>sedan</td>\n",
       "      <td>99.8</td>\n",
       "      <td>0.848630</td>\n",
       "      <td>0.919444</td>\n",
       "      <td>0.908027</td>\n",
       "      <td>2337</td>\n",
       "      <td>ohc</td>\n",
       "      <td>...</td>\n",
       "      <td>0</td>\n",
       "      <td>1</td>\n",
       "      <td>0</td>\n",
       "      <td>0</td>\n",
       "      <td>0</td>\n",
       "      <td>1</td>\n",
       "      <td>0</td>\n",
       "      <td>0</td>\n",
       "      <td>0</td>\n",
       "      <td>0</td>\n",
       "    </tr>\n",
       "    <tr>\n",
       "      <td>4</td>\n",
       "      <td>2</td>\n",
       "      <td>164</td>\n",
       "      <td>audi</td>\n",
       "      <td>sedan</td>\n",
       "      <td>99.4</td>\n",
       "      <td>0.848630</td>\n",
       "      <td>0.922222</td>\n",
       "      <td>0.908027</td>\n",
       "      <td>2824</td>\n",
       "      <td>ohc</td>\n",
       "      <td>...</td>\n",
       "      <td>1</td>\n",
       "      <td>0</td>\n",
       "      <td>0</td>\n",
       "      <td>0</td>\n",
       "      <td>1</td>\n",
       "      <td>0</td>\n",
       "      <td>0</td>\n",
       "      <td>0</td>\n",
       "      <td>0</td>\n",
       "      <td>0</td>\n",
       "    </tr>\n",
       "  </tbody>\n",
       "</table>\n",
       "<p>5 rows × 38 columns</p>\n",
       "</div>"
      ],
      "text/plain": [
       "   symboling  normalized-losses         make   body-style  wheel-base  \\\n",
       "0          3                122  alfa-romero  convertible        88.6   \n",
       "1          3                122  alfa-romero  convertible        88.6   \n",
       "2          1                122  alfa-romero    hatchback        94.5   \n",
       "3          2                164         audi        sedan        99.8   \n",
       "4          2                164         audi        sedan        99.4   \n",
       "\n",
       "     length     width    height  curb-weight engine-type  ...  \\\n",
       "0  0.811148  0.890278  0.816054         2548        dohc  ...   \n",
       "1  0.811148  0.890278  0.816054         2548        dohc  ...   \n",
       "2  0.822681  0.909722  0.876254         2823        ohcv  ...   \n",
       "3  0.848630  0.919444  0.908027         2337         ohc  ...   \n",
       "4  0.848630  0.922222  0.908027         2824         ohc  ...   \n",
       "\n",
       "   drive-wheels-4wd drive-wheels-fwd  drive-wheels-rwd  \\\n",
       "0                 0                0                 1   \n",
       "1                 0                0                 1   \n",
       "2                 0                0                 1   \n",
       "3                 0                1                 0   \n",
       "4                 1                0                 0   \n",
       "\n",
       "   num-of-cylinders-eight  num-of-cylinders-five  num-of-cylinders-four  \\\n",
       "0                       0                      0                      1   \n",
       "1                       0                      0                      1   \n",
       "2                       0                      0                      0   \n",
       "3                       0                      0                      1   \n",
       "4                       0                      1                      0   \n",
       "\n",
       "   num-of-cylinders-six  num-of-cylinders-three  num-of-cylinders-twelve  \\\n",
       "0                     0                       0                        0   \n",
       "1                     0                       0                        0   \n",
       "2                     1                       0                        0   \n",
       "3                     0                       0                        0   \n",
       "4                     0                       0                        0   \n",
       "\n",
       "   num-of-cylinders-two  \n",
       "0                     0  \n",
       "1                     0  \n",
       "2                     0  \n",
       "3                     0  \n",
       "4                     0  \n",
       "\n",
       "[5 rows x 38 columns]"
      ]
     },
     "execution_count": 3,
     "metadata": {},
     "output_type": "execute_result"
    }
   ],
   "source": [
    "df.drop(columns='Unnamed: 0',inplace=True)\n",
    "df.head()"
   ]
  },
  {
   "cell_type": "markdown",
   "metadata": {},
   "source": [
    "# Linear Regression"
   ]
  },
  {
   "cell_type": "markdown",
   "metadata": {},
   "source": [
    "## Predict Price against Highway-mpg"
   ]
  },
  {
   "cell_type": "code",
   "execution_count": 4,
   "metadata": {
    "ExecuteTime": {
     "end_time": "2021-03-14T17:32:22.075969Z",
     "start_time": "2021-03-14T17:32:22.047969Z"
    },
    "scrolled": true
   },
   "outputs": [
    {
     "data": {
      "text/plain": [
       "array([16236.50464347, 16236.50464347, 17058.23802179, 13771.3045085 ,\n",
       "       20345.17153508])"
      ]
     },
     "execution_count": 4,
     "metadata": {},
     "output_type": "execute_result"
    }
   ],
   "source": [
    "# making linear regression object for easier calling\n",
    "lr = LinearRegression()\n",
    "\n",
    "# assigning 'highway-mpg' as the independent variable and 'price' as the dependent variable\n",
    "X = df[['highway-mpg']]\n",
    "Y = df['price']\n",
    "lr.fit(X,Y)\n",
    "Yhat = lr.predict(X)\n",
    "Yhat[:5]"
   ]
  },
  {
   "cell_type": "code",
   "execution_count": 5,
   "metadata": {
    "ExecuteTime": {
     "end_time": "2021-03-14T17:32:22.091969Z",
     "start_time": "2021-03-14T17:32:22.077971Z"
    }
   },
   "outputs": [],
   "source": [
    "# above code in function form\n",
    "from sklearn.metrics import mean_squared_error\n",
    "\n",
    "def linear_regression_modeling(independent_variable,dependent_variable):\n",
    "    # making linear regression object for easier calling\n",
    "    lr = LinearRegression()\n",
    "    # fitting the independent variable(X) and the dependent variable(Y) to Linear Regression \n",
    "    lr.fit(independent_variable,dependent_variable)\n",
    "    # assigning predictions to global variable (Yhat) to be called outside of function, using independent variable(X)\n",
    "    globals() ['Yhat'] = lr.predict(independent_variable)\n",
    "    \n",
    "    ##     𝑌ℎ𝑎𝑡 = 𝑎 + 𝑏𝑋     ##\n",
    "    # intercept (a)\n",
    "    print(f'The intercept of the regression line is {lr.intercept_}')\n",
    "    # slope (b)\n",
    "    print(f'The slope of the regression line is {lr.coef_}')\n",
    "    \n",
    "    # printing the linear regression formula with variables plugged in\n",
    "    print('\\n\\033[1m    𝑌ℎ𝑎𝑡 = intercept (a) + slope (b) * 𝑋 \\nPlugging in the actual values the linear regression formula:\\033[0m')\n",
    "    print(f'\\033[1m{dependent_variable.name}\\033[0m = {lr.intercept_} + {lr.coef_} * \\033[1m({independent_variable.columns[0]})\\033[0m')\n",
    "    \n",
    "    # plotting regression \n",
    "    plt.figure(figsize=(12, 10))\n",
    "    sns.regplot(x=independent_variable, y=dependent_variable)\n",
    "    plt.ylim(0,)\n",
    "    plt.title(f'Linear Regression of {independent_variable.columns[0]} vs {dependent_variable.name}')\n",
    "    plt.xlabel(f'{independent_variable.columns[0]}')\n",
    "    plt.ylabel(f'{dependent_variable.name}')\n",
    "    \n",
    "    print(f'\\n\\n\\033[1mThe R-square is: \\033[0m{lr.score(independent_variable,dependent_variable)}')\n",
    "    print(f'We can say that ~{ round(lr.score(independent_variable,dependent_variable)*100,1)}% of the variation of the {dependent_variable.name} is explained by this simple linear model fitted with {independent_variable.columns[0]}.\\n')\n",
    "    mse = mean_squared_error(df['price'], eval('Yhat'))\n",
    "    print(f'\\033[1mThe mean square error of price and predicted value is: \\033[0m', mse)\n",
    "    \n",
    "    \n",
    "    "
   ]
  },
  {
   "cell_type": "code",
   "execution_count": 6,
   "metadata": {
    "ExecuteTime": {
     "end_time": "2021-03-14T17:32:22.562175Z",
     "start_time": "2021-03-14T17:32:22.093969Z"
    },
    "scrolled": false
   },
   "outputs": [
    {
     "name": "stdout",
     "output_type": "stream",
     "text": [
      "The intercept of the regression line is 38423.3058581574\n",
      "The slope of the regression line is [-821.73337832]\n",
      "\n",
      "\u001b[1m    𝑌ℎ𝑎𝑡 = intercept (a) + slope (b) * 𝑋 \n",
      "Plugging in the actual values the linear regression formula:\u001b[0m\n",
      "\u001b[1mprice\u001b[0m = 38423.3058581574 + [-821.73337832] * \u001b[1m(highway-mpg)\u001b[0m\n",
      "\n",
      "\n",
      "\u001b[1mThe R-square is: \u001b[0m0.4965911884339176\n",
      "We can say that ~49.7% of the variation of the price is explained by this simple linear model fitted with highway-mpg.\n",
      "\n",
      "\u001b[1mThe mean square error of price and predicted value is: \u001b[0m 31635042.944639888\n"
     ]
    },
    {
     "data": {
      "image/png": "[encoded data removed]",
      "text/plain": [
       "<Figure size 864x720 with 1 Axes>"
      ]
     },
     "metadata": {
      "needs_background": "light"
     },
     "output_type": "display_data"
    }
   ],
   "source": [
    "# calling function on df['highway-mpg'] and df['price']\n",
    "linear_regression_modeling(df[['highway-mpg']],df['price'])"
   ]
  },
  {
   "cell_type": "code",
   "execution_count": 7,
   "metadata": {
    "ExecuteTime": {
     "end_time": "2021-03-14T17:32:22.577104Z",
     "start_time": "2021-03-14T17:32:22.566104Z"
    }
   },
   "outputs": [
    {
     "data": {
      "text/plain": [
       "array([16236.50464347, 16236.50464347, 17058.23802179, 13771.3045085 ,\n",
       "       20345.17153508])"
      ]
     },
     "execution_count": 7,
     "metadata": {},
     "output_type": "execute_result"
    }
   ],
   "source": [
    "Yhat[:5]"
   ]
  },
  {
   "cell_type": "markdown",
   "metadata": {},
   "source": [
    "## Predict Price against Peak-rpm"
   ]
  },
  {
   "cell_type": "code",
   "execution_count": 8,
   "metadata": {
    "ExecuteTime": {
     "end_time": "2021-03-14T17:32:22.999157Z",
     "start_time": "2021-03-14T17:32:22.580102Z"
    }
   },
   "outputs": [
    {
     "name": "stdout",
     "output_type": "stream",
     "text": [
      "The intercept of the regression line is 21851.01468613981\n",
      "The slope of the regression line is [-1.68902902]\n",
      "\n",
      "\u001b[1m    𝑌ℎ𝑎𝑡 = intercept (a) + slope (b) * 𝑋 \n",
      "Plugging in the actual values the linear regression formula:\u001b[0m\n",
      "\u001b[1mprice\u001b[0m = 21851.01468613981 + [-1.68902902] * \u001b[1m(peak-rpm)\u001b[0m\n",
      "\n",
      "\n",
      "\u001b[1mThe R-square is: \u001b[0m0.010325785864205628\n",
      "We can say that ~1.0% of the variation of the price is explained by this simple linear model fitted with peak-rpm.\n",
      "\n",
      "\u001b[1mThe mean square error of price and predicted value is: \u001b[0m 62192765.692737065\n"
     ]
    },
    {
     "data": {
      "image/png": "[encoded data removed]",
      "text/plain": [
       "<Figure size 864x720 with 1 Axes>"
      ]
     },
     "metadata": {
      "needs_background": "light"
     },
     "output_type": "display_data"
    }
   ],
   "source": [
    "linear_regression_modeling(df[['peak-rpm']],df['price'])"
   ]
  },
  {
   "cell_type": "code",
   "execution_count": 9,
   "metadata": {
    "ExecuteTime": {
     "end_time": "2021-03-14T17:32:23.015176Z",
     "start_time": "2021-03-14T17:32:23.001185Z"
    }
   },
   "outputs": [
    {
     "data": {
      "text/plain": [
       "array([13405.86957428, 13405.86957428, 13405.86957428, 12561.35506309,\n",
       "       12561.35506309])"
      ]
     },
     "execution_count": 9,
     "metadata": {},
     "output_type": "execute_result"
    }
   ],
   "source": [
    "Yhat[:5]"
   ]
  },
  {
   "cell_type": "markdown",
   "metadata": {},
   "source": [
    "## Predict Price against Horsepower"
   ]
  },
  {
   "cell_type": "code",
   "execution_count": 10,
   "metadata": {
    "ExecuteTime": {
     "end_time": "2021-03-14T17:32:23.443167Z",
     "start_time": "2021-03-14T17:32:23.017169Z"
    }
   },
   "outputs": [
    {
     "name": "stdout",
     "output_type": "stream",
     "text": [
      "The intercept of the regression line is -4597.558297892905\n",
      "The slope of the regression line is [172.18312191]\n",
      "\n",
      "\u001b[1m    𝑌ℎ𝑎𝑡 = intercept (a) + slope (b) * 𝑋 \n",
      "Plugging in the actual values the linear regression formula:\u001b[0m\n",
      "\u001b[1mprice\u001b[0m = -4597.558297892905 + [172.18312191] * \u001b[1m(horsepower)\u001b[0m\n",
      "\n",
      "\n",
      "\u001b[1mThe R-square is: \u001b[0m0.6554109795391572\n",
      "We can say that ~65.5% of the variation of the price is explained by this simple linear model fitted with horsepower.\n",
      "\n",
      "\u001b[1mThe mean square error of price and predicted value is: \u001b[0m 21654544.39825428\n"
     ]
    },
    {
     "data": {
      "image/png": "[encoded data removed]",
      "text/plain": [
       "<Figure size 864x720 with 1 Axes>"
      ]
     },
     "metadata": {
      "needs_background": "light"
     },
     "output_type": "display_data"
    }
   ],
   "source": [
    "linear_regression_modeling(df[['horsepower']],df['price'])"
   ]
  },
  {
   "cell_type": "code",
   "execution_count": 11,
   "metadata": {
    "ExecuteTime": {
     "end_time": "2021-03-14T17:32:23.459165Z",
     "start_time": "2021-03-14T17:32:23.445181Z"
    }
   },
   "outputs": [
    {
     "data": {
      "text/plain": [
       "array([14514.76823442, 14514.76823442, 21918.64247666, 12965.1201372 ,\n",
       "       15203.50072207])"
      ]
     },
     "execution_count": 11,
     "metadata": {},
     "output_type": "execute_result"
    }
   ],
   "source": [
    "Yhat[:5]"
   ]
  },
  {
   "cell_type": "markdown",
   "metadata": {},
   "source": [
    "## Predict Price against Curb-weight"
   ]
  },
  {
   "cell_type": "code",
   "execution_count": 12,
   "metadata": {
    "ExecuteTime": {
     "end_time": "2021-03-14T17:32:23.885156Z",
     "start_time": "2021-03-14T17:32:23.461105Z"
    }
   },
   "outputs": [
    {
     "name": "stdout",
     "output_type": "stream",
     "text": [
      "The intercept of the regression line is -19553.570636227472\n",
      "The slope of the regression line is [12.818847]\n",
      "\n",
      "\u001b[1m    𝑌ℎ𝑎𝑡 = intercept (a) + slope (b) * 𝑋 \n",
      "Plugging in the actual values the linear regression formula:\u001b[0m\n",
      "\u001b[1mprice\u001b[0m = -19553.570636227472 + [12.818847] * \u001b[1m(curb-weight)\u001b[0m\n",
      "\n",
      "\n",
      "\u001b[1mThe R-square is: \u001b[0m0.6962476008164489\n",
      "We can say that ~69.6% of the variation of the price is explained by this simple linear model fitted with curb-weight.\n",
      "\n",
      "\u001b[1mThe mean square error of price and predicted value is: \u001b[0m 19088303.52574716\n"
     ]
    },
    {
     "data": {
      "image/png": "[encoded data removed]",
      "text/plain": [
       "<Figure size 864x720 with 1 Axes>"
      ]
     },
     "metadata": {
      "needs_background": "light"
     },
     "output_type": "display_data"
    }
   ],
   "source": [
    "linear_regression_modeling(df[['curb-weight']],df['price'])"
   ]
  },
  {
   "cell_type": "code",
   "execution_count": 13,
   "metadata": {
    "ExecuteTime": {
     "end_time": "2021-03-14T17:32:23.901159Z",
     "start_time": "2021-03-14T17:32:23.887157Z"
    }
   },
   "outputs": [
    {
     "data": {
      "text/plain": [
       "array([13108.85152621, 13108.85152621, 16634.03445191, 10404.07480868,\n",
       "       16646.85329891])"
      ]
     },
     "execution_count": 13,
     "metadata": {},
     "output_type": "execute_result"
    }
   ],
   "source": [
    "Yhat[:5]"
   ]
  },
  {
   "cell_type": "markdown",
   "metadata": {},
   "source": [
    "## Predict Price against Engine-size"
   ]
  },
  {
   "cell_type": "code",
   "execution_count": 14,
   "metadata": {
    "ExecuteTime": {
     "end_time": "2021-03-14T17:32:24.361170Z",
     "start_time": "2021-03-14T17:32:23.903157Z"
    }
   },
   "outputs": [
    {
     "name": "stdout",
     "output_type": "stream",
     "text": [
      "The intercept of the regression line is -7963.338906281024\n",
      "The slope of the regression line is [166.86001569]\n",
      "\n",
      "\u001b[1m    𝑌ℎ𝑎𝑡 = intercept (a) + slope (b) * 𝑋 \n",
      "Plugging in the actual values the linear regression formula:\u001b[0m\n",
      "\u001b[1mprice\u001b[0m = -7963.338906281024 + [166.86001569] * \u001b[1m(engine-size)\u001b[0m\n",
      "\n",
      "\n",
      "\u001b[1mThe R-square is: \u001b[0m0.7609686443622008\n",
      "We can say that ~76.1% of the variation of the price is explained by this simple linear model fitted with engine-size.\n",
      "\n",
      "\u001b[1mThe mean square error of price and predicted value is: \u001b[0m 15021126.02517414\n"
     ]
    },
    {
     "data": {
      "image/png": "[encoded data removed]",
      "text/plain": [
       "<Figure size 864x720 with 1 Axes>"
      ]
     },
     "metadata": {
      "needs_background": "light"
     },
     "output_type": "display_data"
    }
   ],
   "source": [
    "linear_regression_modeling(df[['engine-size']],df['price'])"
   ]
  },
  {
   "cell_type": "code",
   "execution_count": 15,
   "metadata": {
    "ExecuteTime": {
     "end_time": "2021-03-14T17:32:24.377163Z",
     "start_time": "2021-03-14T17:32:24.363167Z"
    }
   },
   "outputs": [
    {
     "data": {
      "text/plain": [
       "array([13728.4631336 , 13728.4631336 , 17399.38347881, 10224.40280408,\n",
       "       14729.62322775])"
      ]
     },
     "execution_count": 15,
     "metadata": {},
     "output_type": "execute_result"
    }
   ],
   "source": [
    "Yhat[:5]"
   ]
  },
  {
   "cell_type": "code",
   "execution_count": 16,
   "metadata": {
    "ExecuteTime": {
     "end_time": "2021-03-14T17:32:24.409172Z",
     "start_time": "2021-03-14T17:32:24.379176Z"
    }
   },
   "outputs": [
    {
     "data": {
      "text/html": [
       "<div>\n",
       "<style scoped>\n",
       "    .dataframe tbody tr th:only-of-type {\n",
       "        vertical-align: middle;\n",
       "    }\n",
       "\n",
       "    .dataframe tbody tr th {\n",
       "        vertical-align: top;\n",
       "    }\n",
       "\n",
       "    .dataframe thead th {\n",
       "        text-align: right;\n",
       "    }\n",
       "</style>\n",
       "<table border=\"1\" class=\"dataframe\">\n",
       "  <thead>\n",
       "    <tr style=\"text-align: right;\">\n",
       "      <th></th>\n",
       "      <th>horsepower</th>\n",
       "      <th>curb-weight</th>\n",
       "      <th>peak-rpm</th>\n",
       "      <th>highway-mpg</th>\n",
       "      <th>engine-size</th>\n",
       "      <th>price</th>\n",
       "    </tr>\n",
       "  </thead>\n",
       "  <tbody>\n",
       "    <tr>\n",
       "      <td>horsepower</td>\n",
       "      <td>1.000000</td>\n",
       "      <td>0.757976</td>\n",
       "      <td>0.107885</td>\n",
       "      <td>-0.804575</td>\n",
       "      <td>0.822676</td>\n",
       "      <td>0.809575</td>\n",
       "    </tr>\n",
       "    <tr>\n",
       "      <td>curb-weight</td>\n",
       "      <td>0.757976</td>\n",
       "      <td>1.000000</td>\n",
       "      <td>-0.279361</td>\n",
       "      <td>-0.794889</td>\n",
       "      <td>0.849072</td>\n",
       "      <td>0.834415</td>\n",
       "    </tr>\n",
       "    <tr>\n",
       "      <td>peak-rpm</td>\n",
       "      <td>0.107885</td>\n",
       "      <td>-0.279361</td>\n",
       "      <td>1.000000</td>\n",
       "      <td>-0.058598</td>\n",
       "      <td>-0.256733</td>\n",
       "      <td>-0.101616</td>\n",
       "    </tr>\n",
       "    <tr>\n",
       "      <td>highway-mpg</td>\n",
       "      <td>-0.804575</td>\n",
       "      <td>-0.794889</td>\n",
       "      <td>-0.058598</td>\n",
       "      <td>1.000000</td>\n",
       "      <td>-0.679571</td>\n",
       "      <td>-0.704692</td>\n",
       "    </tr>\n",
       "    <tr>\n",
       "      <td>engine-size</td>\n",
       "      <td>0.822676</td>\n",
       "      <td>0.849072</td>\n",
       "      <td>-0.256733</td>\n",
       "      <td>-0.679571</td>\n",
       "      <td>1.000000</td>\n",
       "      <td>0.872335</td>\n",
       "    </tr>\n",
       "    <tr>\n",
       "      <td>price</td>\n",
       "      <td>0.809575</td>\n",
       "      <td>0.834415</td>\n",
       "      <td>-0.101616</td>\n",
       "      <td>-0.704692</td>\n",
       "      <td>0.872335</td>\n",
       "      <td>1.000000</td>\n",
       "    </tr>\n",
       "  </tbody>\n",
       "</table>\n",
       "</div>"
      ],
      "text/plain": [
       "             horsepower  curb-weight  peak-rpm  highway-mpg  engine-size  \\\n",
       "horsepower     1.000000     0.757976  0.107885    -0.804575     0.822676   \n",
       "curb-weight    0.757976     1.000000 -0.279361    -0.794889     0.849072   \n",
       "peak-rpm       0.107885    -0.279361  1.000000    -0.058598    -0.256733   \n",
       "highway-mpg   -0.804575    -0.794889 -0.058598     1.000000    -0.679571   \n",
       "engine-size    0.822676     0.849072 -0.256733    -0.679571     1.000000   \n",
       "price          0.809575     0.834415 -0.101616    -0.704692     0.872335   \n",
       "\n",
       "                price  \n",
       "horsepower   0.809575  \n",
       "curb-weight  0.834415  \n",
       "peak-rpm    -0.101616  \n",
       "highway-mpg -0.704692  \n",
       "engine-size  0.872335  \n",
       "price        1.000000  "
      ]
     },
     "execution_count": 16,
     "metadata": {},
     "output_type": "execute_result"
    }
   ],
   "source": [
    "# rechecking correlation\n",
    "df[['horsepower', 'curb-weight',\"peak-rpm\",\"highway-mpg\",\"engine-size\",\"price\"]].corr()"
   ]
  },
  {
   "cell_type": "markdown",
   "metadata": {},
   "source": [
    "# Multiple Linear Regression"
   ]
  },
  {
   "cell_type": "markdown",
   "metadata": {
    "ExecuteTime": {
     "end_time": "2021-03-05T05:24:38.838006Z",
     "start_time": "2021-03-05T05:24:38.819006Z"
    }
   },
   "source": [
    "𝑌ℎ𝑎𝑡 = 𝑎 + 𝑏1 𝑋1 + 𝑏2 𝑋2 +𝑏3 𝑋3 + 𝑏4 𝑋4 ..."
   ]
  },
  {
   "cell_type": "code",
   "execution_count": 17,
   "metadata": {
    "ExecuteTime": {
     "end_time": "2021-03-14T17:32:24.425103Z",
     "start_time": "2021-03-14T17:32:24.411105Z"
    }
   },
   "outputs": [],
   "source": [
    "mlr = LinearRegression()"
   ]
  },
  {
   "cell_type": "code",
   "execution_count": 18,
   "metadata": {
    "ExecuteTime": {
     "end_time": "2021-03-14T17:32:24.441103Z",
     "start_time": "2021-03-14T17:32:24.427104Z"
    }
   },
   "outputs": [],
   "source": [
    "Z = df[['horsepower', 'curb-weight','highway-mpg','engine-size']]"
   ]
  },
  {
   "cell_type": "code",
   "execution_count": 19,
   "metadata": {
    "ExecuteTime": {
     "end_time": "2021-03-14T17:32:24.472111Z",
     "start_time": "2021-03-14T17:32:24.443105Z"
    },
    "scrolled": true
   },
   "outputs": [
    {
     "data": {
      "text/html": [
       "<div>\n",
       "<style scoped>\n",
       "    .dataframe tbody tr th:only-of-type {\n",
       "        vertical-align: middle;\n",
       "    }\n",
       "\n",
       "    .dataframe tbody tr th {\n",
       "        vertical-align: top;\n",
       "    }\n",
       "\n",
       "    .dataframe thead th {\n",
       "        text-align: right;\n",
       "    }\n",
       "</style>\n",
       "<table border=\"1\" class=\"dataframe\">\n",
       "  <thead>\n",
       "    <tr style=\"text-align: right;\">\n",
       "      <th></th>\n",
       "      <th>horsepower</th>\n",
       "      <th>curb-weight</th>\n",
       "      <th>highway-mpg</th>\n",
       "      <th>engine-size</th>\n",
       "    </tr>\n",
       "  </thead>\n",
       "  <tbody>\n",
       "    <tr>\n",
       "      <td>0</td>\n",
       "      <td>111.0</td>\n",
       "      <td>2548</td>\n",
       "      <td>27</td>\n",
       "      <td>130</td>\n",
       "    </tr>\n",
       "    <tr>\n",
       "      <td>1</td>\n",
       "      <td>111.0</td>\n",
       "      <td>2548</td>\n",
       "      <td>27</td>\n",
       "      <td>130</td>\n",
       "    </tr>\n",
       "    <tr>\n",
       "      <td>2</td>\n",
       "      <td>154.0</td>\n",
       "      <td>2823</td>\n",
       "      <td>26</td>\n",
       "      <td>152</td>\n",
       "    </tr>\n",
       "    <tr>\n",
       "      <td>3</td>\n",
       "      <td>102.0</td>\n",
       "      <td>2337</td>\n",
       "      <td>30</td>\n",
       "      <td>109</td>\n",
       "    </tr>\n",
       "    <tr>\n",
       "      <td>4</td>\n",
       "      <td>115.0</td>\n",
       "      <td>2824</td>\n",
       "      <td>22</td>\n",
       "      <td>136</td>\n",
       "    </tr>\n",
       "    <tr>\n",
       "      <td>...</td>\n",
       "      <td>...</td>\n",
       "      <td>...</td>\n",
       "      <td>...</td>\n",
       "      <td>...</td>\n",
       "    </tr>\n",
       "    <tr>\n",
       "      <td>196</td>\n",
       "      <td>114.0</td>\n",
       "      <td>2952</td>\n",
       "      <td>28</td>\n",
       "      <td>141</td>\n",
       "    </tr>\n",
       "    <tr>\n",
       "      <td>197</td>\n",
       "      <td>160.0</td>\n",
       "      <td>3049</td>\n",
       "      <td>25</td>\n",
       "      <td>141</td>\n",
       "    </tr>\n",
       "    <tr>\n",
       "      <td>198</td>\n",
       "      <td>134.0</td>\n",
       "      <td>3012</td>\n",
       "      <td>23</td>\n",
       "      <td>173</td>\n",
       "    </tr>\n",
       "    <tr>\n",
       "      <td>199</td>\n",
       "      <td>106.0</td>\n",
       "      <td>3217</td>\n",
       "      <td>27</td>\n",
       "      <td>145</td>\n",
       "    </tr>\n",
       "    <tr>\n",
       "      <td>200</td>\n",
       "      <td>114.0</td>\n",
       "      <td>3062</td>\n",
       "      <td>25</td>\n",
       "      <td>141</td>\n",
       "    </tr>\n",
       "  </tbody>\n",
       "</table>\n",
       "<p>201 rows × 4 columns</p>\n",
       "</div>"
      ],
      "text/plain": [
       "     horsepower  curb-weight  highway-mpg  engine-size\n",
       "0         111.0         2548           27          130\n",
       "1         111.0         2548           27          130\n",
       "2         154.0         2823           26          152\n",
       "3         102.0         2337           30          109\n",
       "4         115.0         2824           22          136\n",
       "..          ...          ...          ...          ...\n",
       "196       114.0         2952           28          141\n",
       "197       160.0         3049           25          141\n",
       "198       134.0         3012           23          173\n",
       "199       106.0         3217           27          145\n",
       "200       114.0         3062           25          141\n",
       "\n",
       "[201 rows x 4 columns]"
      ]
     },
     "execution_count": 19,
     "metadata": {},
     "output_type": "execute_result"
    }
   ],
   "source": [
    "Z"
   ]
  },
  {
   "cell_type": "code",
   "execution_count": 23,
   "metadata": {
    "ExecuteTime": {
     "end_time": "2021-03-14T17:33:20.032295Z",
     "start_time": "2021-03-14T17:33:20.022295Z"
    }
   },
   "outputs": [
    {
     "name": "stdout",
     "output_type": "stream",
     "text": [
      "Intercept value of the regression object -15806.62462632922\n",
      "Coefficient values of the regression object [53.49574423  4.70770099 36.05748882 81.53026382]\n"
     ]
    }
   ],
   "source": [
    "mlr.fit(Z,df['price'])\n",
    "print(f'Intercept value of the regression object {mlr.intercept_}')\n",
    "print(f'Coefficient values of the regression object {mlr.coef_}')"
   ]
  },
  {
   "cell_type": "code",
   "execution_count": 24,
   "metadata": {
    "ExecuteTime": {
     "end_time": "2021-03-14T17:33:20.598665Z",
     "start_time": "2021-03-14T17:33:20.586665Z"
    }
   },
   "outputs": [
    {
     "name": "stdout",
     "output_type": "stream",
     "text": [
      "The R-square is:  0.8093562806577457\n"
     ]
    }
   ],
   "source": [
    "Yhat_mlr = mlr.predict(Z)\n",
    "print(f'The R-square is: ', mlr.score(Z, df['price']))"
   ]
  },
  {
   "cell_type": "code",
   "execution_count": 25,
   "metadata": {
    "ExecuteTime": {
     "end_time": "2021-03-14T17:33:21.057506Z",
     "start_time": "2021-03-14T17:33:21.048507Z"
    }
   },
   "outputs": [
    {
     "name": "stdout",
     "output_type": "stream",
     "text": [
      "The mean square error of price and predicted value using multifit is:  11980366.87072649\n"
     ]
    }
   ],
   "source": [
    "print('The mean square error of price and predicted value using multifit is: ', \\\n",
    "      mean_squared_error(df['price'], Yhat_mlr))"
   ]
  },
  {
   "cell_type": "code",
   "execution_count": 26,
   "metadata": {
    "ExecuteTime": {
     "end_time": "2021-03-14T17:33:21.927749Z",
     "start_time": "2021-03-14T17:33:21.623749Z"
    }
   },
   "outputs": [
    {
     "data": {
      "image/png": "[encoded data removed]",
      "text/plain": [
       "<Figure size 864x720 with 1 Axes>"
      ]
     },
     "metadata": {
      "needs_background": "light"
     },
     "output_type": "display_data"
    }
   ],
   "source": [
    "plt.figure(figsize=(12, 10))\n",
    "\n",
    "\n",
    "ax1 = sns.distplot(df['price'], hist=False, color=\"r\", label=\"Actual Value\")\n",
    "sns.distplot(Yhat_mlr, hist=False, color=\"b\", label=\"Fitted Values\" , ax=ax1)\n",
    "\n",
    "\n",
    "plt.title('Actual vs Fitted Values for Price')\n",
    "plt.xlabel('Price (in dollars)')\n",
    "plt.ylabel('Proportion of Cars')\n",
    "\n",
    "plt.show()\n",
    "plt.close()"
   ]
  },
  {
   "cell_type": "code",
   "execution_count": 54,
   "metadata": {
    "ExecuteTime": {
     "end_time": "2021-03-14T17:54:18.226297Z",
     "start_time": "2021-03-14T17:54:18.202237Z"
    }
   },
   "outputs": [],
   "source": [
    "def multi_linear_regression_modeling(independent_variable,dependent_variable):\n",
    "    # making linear regression object for easier calling\n",
    "    mlr = LinearRegression()\n",
    "    # fitting the independent variable(X) and the dependent variable(Y) to Linear Regression \n",
    "    mlr.fit(independent_variable,dependent_variable)\n",
    "    # assigning predictions to global variable (Yhat_mlr) to be called outside of function, using independent variable(X)\n",
    "    globals() ['Yhat_mlr'] = mlr.predict(independent_variable)\n",
    "    globals() ['columns_used'] = [independent_variable.columns[i] for i,value in enumerate(independent_variable.columns)]\n",
    "    \n",
    "    ##     𝑌ℎ𝑎𝑡 = 𝑎 + 𝑏1 𝑋1 + 𝑏2 𝑋2 +𝑏3 𝑋3 + 𝑏4 𝑋4 ...     ##\n",
    "    # intercept (a)\n",
    "    print(f'The intercept of the regression line is {mlr.intercept_}')\n",
    "    # slope (b)\n",
    "    print(f'The slope of the regression line is {mlr.coef_}')\n",
    "    print('\\n\\033[1m    𝑌ℎ𝑎𝑡 = 𝑎 + 𝑏1 𝑋1 + 𝑏2 𝑋2 +𝑏3 𝑋3 + 𝑏4 𝑋4 ... \\nPlugging in the actual values the multiple linear regression formula:\\033[0m')\n",
    "    \n",
    "    \n",
    "    # printing the multiple linear regression formula with variables plugged in\n",
    "    sentence = (f'{dependent_variable.name} = {mlr.intercept_}')\n",
    "    for i,col in enumerate(independent_variable.columns):\n",
    "        slope_times_feature = f' + ({mlr.coef_[i]} * {independent_variable.columns[i]})'\n",
    "        sentence += str(slope_times_feature)\n",
    "    print(sentence)   \n",
    "#     print(f'\\033[1m{dependent_variable.name}\\033[0m = {mlr.intercept_} + {mlr.coef_} * \\033[1m({independent_variable.columns[0]})\\033[0m')\n",
    "    \n",
    "\n",
    "    print(f'\\n\\n\\033[1mThe R-square is: \\033[0m{mlr.score(independent_variable,dependent_variable)}')\n",
    "    print(f'We can say that ~{ round(mlr.score(independent_variable,dependent_variable)*100,1)}% of the variation of the {dependent_variable.name} is explained by this multiple linear model fitted with {columns_used}.\\n')\n",
    "    mse = mean_squared_error(df['price'], eval('Yhat_mlr'))\n",
    "    print(f'\\033[1mThe mean square error of price and predicted values is: \\033[0m', mse)\n",
    "    \n",
    "    \n",
    "    plt.figure(figsize=(12, 10))\n",
    "    ax1 = sns.distplot(df['price'], hist=False, color=\"r\", label=\"Actual Value\")\n",
    "    sns.distplot(Yhat_mlr, hist=False, color=\"b\", label=\"Fitted Values\" , ax=ax1)\n",
    "\n",
    "\n",
    "    plt.title('Actual vs Predicted Values for Price')\n",
    "    plt.xlabel('Price (in dollars)')\n",
    "    plt.ylabel('Proportion of Cars')\n",
    "\n",
    "    plt.show()\n",
    "    plt.close()"
   ]
  },
  {
   "cell_type": "code",
   "execution_count": 55,
   "metadata": {
    "ExecuteTime": {
     "end_time": "2021-03-14T17:54:19.096236Z",
     "start_time": "2021-03-14T17:54:18.791237Z"
    }
   },
   "outputs": [
    {
     "name": "stdout",
     "output_type": "stream",
     "text": [
      "The intercept of the regression line is -15806.62462632922\n",
      "The slope of the regression line is [53.49574423  4.70770099 36.05748882 81.53026382]\n",
      "\n",
      "\u001b[1m    𝑌ℎ𝑎𝑡 = 𝑎 + 𝑏1 𝑋1 + 𝑏2 𝑋2 +𝑏3 𝑋3 + 𝑏4 𝑋4 ... \n",
      "Plugging in the actual values the multiple linear regression formula:\u001b[0m\n",
      "price = -15806.62462632922 + (53.49574422604911 * horsepower) + (4.707700994613942 * curb-weight) + (36.05748881648583 * highway-mpg) + (81.53026382122758 * engine-size)\n",
      "\n",
      "\n",
      "\u001b[1mThe R-square is: \u001b[0m0.8093562806577457\n",
      "We can say that ~80.9% of the variation of the price is explained by this multiple linear model fitted with ['horsepower', 'curb-weight', 'highway-mpg', 'engine-size'].\n",
      "\n",
      "\u001b[1mThe mean square error of price and predicted values is: \u001b[0m 11980366.87072649\n"
     ]
    },
    {
     "data": {
      "image/png": "[encoded data removed]",
      "text/plain": [
       "<Figure size 864x720 with 1 Axes>"
      ]
     },
     "metadata": {
      "needs_background": "light"
     },
     "output_type": "display_data"
    }
   ],
   "source": [
    "multi_linear_regression_modeling(Z,df['price'])\n"
   ]
  },
  {
   "cell_type": "code",
   "execution_count": 48,
   "metadata": {
    "ExecuteTime": {
     "end_time": "2021-03-14T17:43:41.381898Z",
     "start_time": "2021-03-14T17:43:41.360951Z"
    },
    "scrolled": true
   },
   "outputs": [
    {
     "name": "stdout",
     "output_type": "stream",
     "text": [
      "price = -15806.62462632922 + (53.49574422604911 * horsepower)\n",
      "price = -15806.62462632922 + (53.49574422604911 * horsepower) + (4.707700994613942 * curb-weight)\n",
      "price = -15806.62462632922 + (53.49574422604911 * horsepower) + (4.707700994613942 * curb-weight) + (36.05748881648583 * highway-mpg)\n",
      "price = -15806.62462632922 + (53.49574422604911 * horsepower) + (4.707700994613942 * curb-weight) + (36.05748881648583 * highway-mpg) + (81.53026382122758 * engine-size)\n"
     ]
    },
    {
     "data": {
      "text/plain": [
       "'price = -15806.62462632922 + (53.49574422604911 * horsepower) + (4.707700994613942 * curb-weight) + (36.05748881648583 * highway-mpg) + (81.53026382122758 * engine-size)'"
      ]
     },
     "execution_count": 48,
     "metadata": {},
     "output_type": "execute_result"
    }
   ],
   "source": [
    "sentence = (f'{dependent_variable.name} = {mlr.intercept_}')\n",
    "for i,col in enumerate(Z.columns):\n",
    "    slope_times_feature = f' + ({mlr.coef_[i]} * {Z.columns[i]})'\n",
    "    sentence += str(slope_times_feature)\n",
    "print(sentence)    \n",
    "\n",
    "\n",
    "\n"
   ]
  },
  {
   "cell_type": "code",
   "execution_count": 49,
   "metadata": {
    "ExecuteTime": {
     "end_time": "2021-03-14T17:44:07.676276Z",
     "start_time": "2021-03-14T17:44:07.667279Z"
    }
   },
   "outputs": [
    {
     "name": "stdout",
     "output_type": "stream",
     "text": [
      "price = -15806.62462632922 + (53.49574422604911 * horsepower) + (4.707700994613942 * curb-weight) + (36.05748881648583 * highway-mpg) + (81.53026382122758 * engine-size)\n"
     ]
    }
   ],
   "source": [
    "print(sentence)"
   ]
  },
  {
   "cell_type": "code",
   "execution_count": null,
   "metadata": {
    "ExecuteTime": {
     "end_time": "2021-03-14T17:32:24.980176Z",
     "start_time": "2021-03-14T17:32:18.641Z"
    }
   },
   "outputs": [],
   "source": [
    "' + 53.49574422604911 * horsepower' + ' + 4.707700994613942 * curb-weight'"
   ]
  },
  {
   "cell_type": "code",
   "execution_count": null,
   "metadata": {
    "ExecuteTime": {
     "end_time": "2021-03-14T17:32:24.982176Z",
     "start_time": "2021-03-14T17:32:18.644Z"
    }
   },
   "outputs": [],
   "source": [
    "f'{df.price.name} = {mlr.intercept_}'"
   ]
  },
  {
   "cell_type": "code",
   "execution_count": null,
   "metadata": {
    "ExecuteTime": {
     "end_time": "2021-03-14T17:32:24.983157Z",
     "start_time": "2021-03-14T17:32:18.646Z"
    }
   },
   "outputs": [],
   "source": [
    "print(f'{sentence}+{str(empty)}')"
   ]
  },
  {
   "cell_type": "code",
   "execution_count": null,
   "metadata": {
    "ExecuteTime": {
     "end_time": "2021-03-14T17:32:24.985157Z",
     "start_time": "2021-03-14T17:32:18.649Z"
    }
   },
   "outputs": [],
   "source": [
    "print(f'{df.price.name} = {mlr.intercept_} + ({mlr.coef_[i]} * {col})', end=\" +  \",flush=True)"
   ]
  },
  {
   "cell_type": "markdown",
   "metadata": {},
   "source": [
    "##"
   ]
  },
  {
   "cell_type": "code",
   "execution_count": null,
   "metadata": {
    "ExecuteTime": {
     "end_time": "2021-03-14T17:32:24.992175Z",
     "start_time": "2021-03-14T17:32:18.663Z"
    }
   },
   "outputs": [],
   "source": [
    "mlr2 = LinearRegression()\n",
    "mlr2.fit(df[['normalized-losses','highway-mpg']],df['price'])\n",
    "print(f'Intercept value of the regression object {mlr2.intercept_}')\n",
    "print(f'Coefficient values of the regression object {mlr2.coef_}')"
   ]
  },
  {
   "cell_type": "code",
   "execution_count": null,
   "metadata": {
    "ExecuteTime": {
     "end_time": "2021-03-14T17:32:24.993157Z",
     "start_time": "2021-03-14T17:32:18.666Z"
    }
   },
   "outputs": [],
   "source": [
    "Yhat3 = mlr2.predict(df[['normalized-losses','highway-mpg']])\n",
    "\n",
    "plt.figure(figsize=(12, 10))\n",
    "\n",
    "\n",
    "ax1 = sns.distplot(df['price'], hist=False, color=\"r\", label=\"Actual Value\")\n",
    "sns.distplot(Yhat3, hist=False, color=\"b\", label=\"Fitted Values\" , ax=ax1)\n",
    "\n",
    "\n",
    "plt.title('Actual vs Fitted Values for Price')\n",
    "plt.xlabel('Price (in dollars)')\n",
    "plt.ylabel('Proportion of Cars')\n",
    "\n",
    "plt.show()\n",
    "plt.close()"
   ]
  },
  {
   "cell_type": "markdown",
   "metadata": {},
   "source": [
    "# Polynomial Regression"
   ]
  },
  {
   "cell_type": "code",
   "execution_count": null,
   "metadata": {
    "ExecuteTime": {
     "end_time": "2021-03-14T17:32:24.995158Z",
     "start_time": "2021-03-14T17:32:18.669Z"
    }
   },
   "outputs": [],
   "source": [
    "from sklearn.metrics import r2_score\n",
    "\n",
    "def PlotPolly(independent_variable, dependent_variable, Power):\n",
    "    print('\\033[1mY = a + b_1 X^2 +b_2 X^2 + ...\\033[0m')\n",
    "    print('\\n')\n",
    "    globals() ['Fit_'+str(Power)] = np.polyfit(independent_variable, dependent_variable, Power)\n",
    "    if Power == 2:\n",
    "        print(f'Polynomial Regression fit to the {Power}nd order:')\n",
    "    elif Power == 3:\n",
    "        print(f'Polynomial Regression fit to the {Power}rd order:')\n",
    "    else:\n",
    "        print(f'Polynomial Regression fit to the {Power}th order:')\n",
    "        \n",
    "    print(np.array(eval(f'Fit_'+str(Power))))\n",
    "    print('\\nPlugging in values into the formula')\n",
    "    \n",
    "    f = np.polyfit(independent_variable, dependent_variable, Power)\n",
    "    globals() ['model_'+str(Power)] = np.poly1d(f)\n",
    "    print(eval('model_'+str(Power)))\n",
    "    \n",
    "    \n",
    "    x_new = np.linspace(15, 55, 100)\n",
    "    y_new = eval('model_'+str(Power))(x_new)\n",
    "    r_score = r2_score(dependent_variable, eval('model_'+str(Power))(independent_variable))\n",
    "    mse = mean_squared_error(dependent_variable, eval('model_'+str(Power))(independent_variable))\n",
    "    \n",
    "    \n",
    "    plt.figure(figsize=(12, 10))\n",
    "    plt.plot(independent_variable, dependent_variable, '.', x_new, y_new, '-')\n",
    "    plt.title(f'Polynomial Fit with Matplotlib for Price ~ Length')\n",
    "    ax = plt.gca()\n",
    "    ax.set_facecolor((0.898, 0.898, 0.898))\n",
    "    fig = plt.gcf()\n",
    "    plt.xlabel(f'{independent_variable.name.title()}')\n",
    "    plt.ylabel(f'{dependent_variable.name.title()} of Cars')\n",
    "\n",
    "\n",
    "    plt.show()\n",
    "    plt.close\n",
    "    \n",
    "    print('\\n\\n\\033[1mThe R-square is: \\033[0m' , r_score)\n",
    "    print(f'We can say that ~{ round(r_score,3)}% of the variation of the {dependent_variable.name} is explained by this Polynomial Regression model fitted with {independent_variable.name}.')\n",
    "    print(f'\\n\\n\\033[1mThe Mean squared error is: \\033[0m{mse}')"
   ]
  },
  {
   "cell_type": "code",
   "execution_count": null,
   "metadata": {
    "ExecuteTime": {
     "end_time": "2021-03-14T17:32:24.996176Z",
     "start_time": "2021-03-14T17:32:18.672Z"
    },
    "scrolled": false
   },
   "outputs": [],
   "source": [
    "PlotPolly(df['highway-mpg'],df['price'],2)"
   ]
  },
  {
   "cell_type": "markdown",
   "metadata": {},
   "source": [
    "## Polynomial fit of Highway-MPG against Price of the 3rd order"
   ]
  },
  {
   "cell_type": "code",
   "execution_count": null,
   "metadata": {
    "ExecuteTime": {
     "end_time": "2021-03-14T17:32:24.997158Z",
     "start_time": "2021-03-14T17:32:18.676Z"
    }
   },
   "outputs": [],
   "source": [
    "PlotPolly(df['highway-mpg'],df['price'],3)"
   ]
  },
  {
   "cell_type": "markdown",
   "metadata": {},
   "source": [
    "## Polynomial fit of Highway-MPG against Price of the 4th order"
   ]
  },
  {
   "cell_type": "code",
   "execution_count": null,
   "metadata": {
    "ExecuteTime": {
     "end_time": "2021-03-14T17:32:24.999158Z",
     "start_time": "2021-03-14T17:32:18.683Z"
    },
    "scrolled": false
   },
   "outputs": [],
   "source": [
    "PlotPolly(df['highway-mpg'],df['price'],4)"
   ]
  },
  {
   "cell_type": "markdown",
   "metadata": {},
   "source": [
    "## Polynomial fit of Highway-MPG against Price of the 5th order"
   ]
  },
  {
   "cell_type": "code",
   "execution_count": null,
   "metadata": {
    "ExecuteTime": {
     "end_time": "2021-03-14T17:32:25.000176Z",
     "start_time": "2021-03-14T17:32:18.686Z"
    },
    "scrolled": false
   },
   "outputs": [],
   "source": [
    "PlotPolly(df['highway-mpg'],df['price'],5)"
   ]
  },
  {
   "cell_type": "markdown",
   "metadata": {},
   "source": [
    "## Polynomial fit of Highway-MPG against Price of the 11th order"
   ]
  },
  {
   "cell_type": "code",
   "execution_count": null,
   "metadata": {
    "ExecuteTime": {
     "end_time": "2021-03-14T17:32:25.001157Z",
     "start_time": "2021-03-14T17:32:18.691Z"
    },
    "scrolled": false
   },
   "outputs": [],
   "source": [
    "PlotPolly(df['highway-mpg'],df['price'],11)"
   ]
  },
  {
   "cell_type": "markdown",
   "metadata": {},
   "source": [
    "# Polynomial transform on multiple features"
   ]
  },
  {
   "cell_type": "code",
   "execution_count": null,
   "metadata": {
    "ExecuteTime": {
     "end_time": "2021-03-14T17:32:25.003157Z",
     "start_time": "2021-03-14T17:32:18.694Z"
    }
   },
   "outputs": [],
   "source": [
    "from sklearn.preprocessing import PolynomialFeatures\n",
    "\n",
    "def poly_transform(multiple_column_independent_variables,degrees):\n",
    "    globals()['pt'] = PolynomialFeatures(degree=degrees)\n",
    "    print(pt)\n",
    "    globals()[f'Z_pt_'+str(degrees)] = pt.fit_transform(Z)\n",
    "    print(f\"The original data is of {Z.shape[0]} samples and {Z.shape[1]} features    ----->    shape {Z.shape}\")\n",
    "    print(f\"After the polynomial transformation of {degrees} degrees, there are {eval(f'Z_pt_'+str(degrees)).shape[0]} samples and {eval(f'Z_pt_'+str(degrees)).shape[1]} features    ----->    shape {eval(f'Z_pt_'+str(degrees)).shape}\")"
   ]
  },
  {
   "cell_type": "code",
   "execution_count": null,
   "metadata": {
    "ExecuteTime": {
     "end_time": "2021-03-14T17:32:25.004176Z",
     "start_time": "2021-03-14T17:32:18.697Z"
    }
   },
   "outputs": [],
   "source": [
    "poly_transform(Z,2)"
   ]
  },
  {
   "cell_type": "markdown",
   "metadata": {},
   "source": [
    "# Pipeline"
   ]
  },
  {
   "cell_type": "code",
   "execution_count": null,
   "metadata": {
    "ExecuteTime": {
     "end_time": "2021-03-14T17:32:25.005157Z",
     "start_time": "2021-03-14T17:32:18.700Z"
    }
   },
   "outputs": [],
   "source": [
    "from sklearn.pipeline import Pipeline\n",
    "from sklearn.preprocessing import StandardScaler\n",
    "\n",
    "def make_pipline(pipeInputs,independent_variable, dependent_variable, number_of_predictions_to_return):\n",
    "    \n",
    "    globals() ['pipe']=Pipeline(pipeInputs)\n",
    "    print(pipe)\n",
    "    pipe.fit(independent_variable, dependent_variable)\n",
    "    globals() ['yhat_pipe']=pipe.predict(independent_variable)\n",
    "    if number_of_predictions_to_return == 0:\n",
    "        print(f'\\nAll predictions using pipline {[i[0] for i in pipeInputs]}')\n",
    "        return yhat_pipe[0:]\n",
    "    else:\n",
    "        print(f'\\n1st {number_of_predictions_to_return} predictions using pipline {[i[0] for i in pipeInputs]}')\n",
    "        return yhat_pipe[0:number_of_predictions_to_return]"
   ]
  },
  {
   "cell_type": "markdown",
   "metadata": {},
   "source": [
    "##  1st 10 predictions using Pipeline [StandardScaler, LinearRegression] on horsepower, curb-weight, highway-mpg, engine-size against price"
   ]
  },
  {
   "cell_type": "code",
   "execution_count": null,
   "metadata": {
    "ExecuteTime": {
     "end_time": "2021-03-14T17:32:25.007157Z",
     "start_time": "2021-03-14T17:32:18.703Z"
    },
    "scrolled": true
   },
   "outputs": [],
   "source": [
    "Inputs2=[('scale',StandardScaler()),('model',LinearRegression())]\n",
    "make_pipline(Inputs2,Z,df['price'],10)"
   ]
  },
  {
   "cell_type": "markdown",
   "metadata": {},
   "source": [
    "## 1st 5 predictions using Pipeline [StandardScaler,  PolynomialFeatures, LinearRegression] on horsepower, curb-weight, highway-mpg, engine-size against price"
   ]
  },
  {
   "cell_type": "code",
   "execution_count": null,
   "metadata": {
    "ExecuteTime": {
     "end_time": "2021-03-14T17:32:25.008176Z",
     "start_time": "2021-03-14T17:32:18.707Z"
    },
    "scrolled": false
   },
   "outputs": [],
   "source": [
    "Inputs = [('scale',StandardScaler()), ('polynomial', PolynomialFeatures(include_bias=False)), ('model',LinearRegression())]\n",
    "make_pipline(Inputs,Z,df['price'],5)"
   ]
  },
  {
   "cell_type": "markdown",
   "metadata": {},
   "source": [
    "## All predictions using Pipeline [StandardScaler,  PolynomialFeatures, LinearRegression] on horsepower, curb-weight, highway-mpg, engine-size against price"
   ]
  },
  {
   "cell_type": "code",
   "execution_count": null,
   "metadata": {
    "ExecuteTime": {
     "end_time": "2021-03-14T17:32:25.010176Z",
     "start_time": "2021-03-14T17:32:18.710Z"
    },
    "scrolled": false
   },
   "outputs": [],
   "source": [
    "Inputs = [('scale',StandardScaler()), ('polynomial', PolynomialFeatures(include_bias=False)), ('model',LinearRegression())]\n",
    "make_pipline(Inputs,Z,df['price'],0)"
   ]
  }
 ],
 "metadata": {
  "kernelspec": {
   "display_name": "Python 3",
   "language": "python",
   "name": "python3"
  },
  "language_info": {
   "codemirror_mode": {
    "name": "ipython",
    "version": 3
   },
   "file_extension": ".py",
   "mimetype": "text/x-python",
   "name": "python",
   "nbconvert_exporter": "python",
   "pygments_lexer": "ipython3",
   "version": "3.7.4"
  },
  "toc": {
   "base_numbering": 1,
   "nav_menu": {},
   "number_sections": true,
   "sideBar": true,
   "skip_h1_title": false,
   "title_cell": "Table of Contents",
   "title_sidebar": "Contents",
   "toc_cell": false,
   "toc_position": {},
   "toc_section_display": true,
   "toc_window_display": false
  }
 },
 "nbformat": 4,
 "nbformat_minor": 2
}

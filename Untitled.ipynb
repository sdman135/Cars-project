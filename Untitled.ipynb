{
 "cells": [
  {
   "cell_type": "code",
   "execution_count": 10,
   "metadata": {
    "ExecuteTime": {
     "end_time": "2021-03-01T05:40:47.268462Z",
     "start_time": "2021-03-01T05:40:47.254447Z"
    }
   },
   "outputs": [],
   "source": [
    "import pandas as pd\n",
    "import numpy as np\n",
    "import matplotlib.pyplot as plt\n",
    "\n",
    "# modeling imports\n",
    "from sklearn.linear_model import LinearRegression"
   ]
  },
  {
   "cell_type": "code",
   "execution_count": 7,
   "metadata": {
    "ExecuteTime": {
     "end_time": "2021-03-01T05:39:26.365825Z",
     "start_time": "2021-03-01T05:39:26.318825Z"
    }
   },
   "outputs": [
    {
     "data": {
      "text/html": [
       "<div>\n",
       "<style scoped>\n",
       "    .dataframe tbody tr th:only-of-type {\n",
       "        vertical-align: middle;\n",
       "    }\n",
       "\n",
       "    .dataframe tbody tr th {\n",
       "        vertical-align: top;\n",
       "    }\n",
       "\n",
       "    .dataframe thead th {\n",
       "        text-align: right;\n",
       "    }\n",
       "</style>\n",
       "<table border=\"1\" class=\"dataframe\">\n",
       "  <thead>\n",
       "    <tr style=\"text-align: right;\">\n",
       "      <th></th>\n",
       "      <th>Unnamed: 0</th>\n",
       "      <th>symboling</th>\n",
       "      <th>normalized-losses</th>\n",
       "      <th>make</th>\n",
       "      <th>body-style</th>\n",
       "      <th>wheel-base</th>\n",
       "      <th>length</th>\n",
       "      <th>width</th>\n",
       "      <th>height</th>\n",
       "      <th>curb-weight</th>\n",
       "      <th>...</th>\n",
       "      <th>drive-wheels-4wd</th>\n",
       "      <th>drive-wheels-fwd</th>\n",
       "      <th>drive-wheels-rwd</th>\n",
       "      <th>num-of-cylinders-eight</th>\n",
       "      <th>num-of-cylinders-five</th>\n",
       "      <th>num-of-cylinders-four</th>\n",
       "      <th>num-of-cylinders-six</th>\n",
       "      <th>num-of-cylinders-three</th>\n",
       "      <th>num-of-cylinders-twelve</th>\n",
       "      <th>num-of-cylinders-two</th>\n",
       "    </tr>\n",
       "  </thead>\n",
       "  <tbody>\n",
       "    <tr>\n",
       "      <td>0</td>\n",
       "      <td>0</td>\n",
       "      <td>3</td>\n",
       "      <td>122</td>\n",
       "      <td>alfa-romero</td>\n",
       "      <td>convertible</td>\n",
       "      <td>88.6</td>\n",
       "      <td>0.811148</td>\n",
       "      <td>0.890278</td>\n",
       "      <td>0.816054</td>\n",
       "      <td>2548</td>\n",
       "      <td>...</td>\n",
       "      <td>0</td>\n",
       "      <td>0</td>\n",
       "      <td>1</td>\n",
       "      <td>0</td>\n",
       "      <td>0</td>\n",
       "      <td>1</td>\n",
       "      <td>0</td>\n",
       "      <td>0</td>\n",
       "      <td>0</td>\n",
       "      <td>0</td>\n",
       "    </tr>\n",
       "    <tr>\n",
       "      <td>1</td>\n",
       "      <td>1</td>\n",
       "      <td>3</td>\n",
       "      <td>122</td>\n",
       "      <td>alfa-romero</td>\n",
       "      <td>convertible</td>\n",
       "      <td>88.6</td>\n",
       "      <td>0.811148</td>\n",
       "      <td>0.890278</td>\n",
       "      <td>0.816054</td>\n",
       "      <td>2548</td>\n",
       "      <td>...</td>\n",
       "      <td>0</td>\n",
       "      <td>0</td>\n",
       "      <td>1</td>\n",
       "      <td>0</td>\n",
       "      <td>0</td>\n",
       "      <td>1</td>\n",
       "      <td>0</td>\n",
       "      <td>0</td>\n",
       "      <td>0</td>\n",
       "      <td>0</td>\n",
       "    </tr>\n",
       "    <tr>\n",
       "      <td>2</td>\n",
       "      <td>2</td>\n",
       "      <td>1</td>\n",
       "      <td>122</td>\n",
       "      <td>alfa-romero</td>\n",
       "      <td>hatchback</td>\n",
       "      <td>94.5</td>\n",
       "      <td>0.822681</td>\n",
       "      <td>0.909722</td>\n",
       "      <td>0.876254</td>\n",
       "      <td>2823</td>\n",
       "      <td>...</td>\n",
       "      <td>0</td>\n",
       "      <td>0</td>\n",
       "      <td>1</td>\n",
       "      <td>0</td>\n",
       "      <td>0</td>\n",
       "      <td>0</td>\n",
       "      <td>1</td>\n",
       "      <td>0</td>\n",
       "      <td>0</td>\n",
       "      <td>0</td>\n",
       "    </tr>\n",
       "    <tr>\n",
       "      <td>3</td>\n",
       "      <td>3</td>\n",
       "      <td>2</td>\n",
       "      <td>164</td>\n",
       "      <td>audi</td>\n",
       "      <td>sedan</td>\n",
       "      <td>99.8</td>\n",
       "      <td>0.848630</td>\n",
       "      <td>0.919444</td>\n",
       "      <td>0.908027</td>\n",
       "      <td>2337</td>\n",
       "      <td>...</td>\n",
       "      <td>0</td>\n",
       "      <td>1</td>\n",
       "      <td>0</td>\n",
       "      <td>0</td>\n",
       "      <td>0</td>\n",
       "      <td>1</td>\n",
       "      <td>0</td>\n",
       "      <td>0</td>\n",
       "      <td>0</td>\n",
       "      <td>0</td>\n",
       "    </tr>\n",
       "    <tr>\n",
       "      <td>4</td>\n",
       "      <td>4</td>\n",
       "      <td>2</td>\n",
       "      <td>164</td>\n",
       "      <td>audi</td>\n",
       "      <td>sedan</td>\n",
       "      <td>99.4</td>\n",
       "      <td>0.848630</td>\n",
       "      <td>0.922222</td>\n",
       "      <td>0.908027</td>\n",
       "      <td>2824</td>\n",
       "      <td>...</td>\n",
       "      <td>1</td>\n",
       "      <td>0</td>\n",
       "      <td>0</td>\n",
       "      <td>0</td>\n",
       "      <td>1</td>\n",
       "      <td>0</td>\n",
       "      <td>0</td>\n",
       "      <td>0</td>\n",
       "      <td>0</td>\n",
       "      <td>0</td>\n",
       "    </tr>\n",
       "  </tbody>\n",
       "</table>\n",
       "<p>5 rows × 39 columns</p>\n",
       "</div>"
      ],
      "text/plain": [
       "   Unnamed: 0  symboling  normalized-losses         make   body-style  \\\n",
       "0           0          3                122  alfa-romero  convertible   \n",
       "1           1          3                122  alfa-romero  convertible   \n",
       "2           2          1                122  alfa-romero    hatchback   \n",
       "3           3          2                164         audi        sedan   \n",
       "4           4          2                164         audi        sedan   \n",
       "\n",
       "   wheel-base    length     width    height  curb-weight  ...  \\\n",
       "0        88.6  0.811148  0.890278  0.816054         2548  ...   \n",
       "1        88.6  0.811148  0.890278  0.816054         2548  ...   \n",
       "2        94.5  0.822681  0.909722  0.876254         2823  ...   \n",
       "3        99.8  0.848630  0.919444  0.908027         2337  ...   \n",
       "4        99.4  0.848630  0.922222  0.908027         2824  ...   \n",
       "\n",
       "  drive-wheels-4wd  drive-wheels-fwd drive-wheels-rwd  num-of-cylinders-eight  \\\n",
       "0                0                 0                1                       0   \n",
       "1                0                 0                1                       0   \n",
       "2                0                 0                1                       0   \n",
       "3                0                 1                0                       0   \n",
       "4                1                 0                0                       0   \n",
       "\n",
       "   num-of-cylinders-five  num-of-cylinders-four  num-of-cylinders-six  \\\n",
       "0                      0                      1                     0   \n",
       "1                      0                      1                     0   \n",
       "2                      0                      0                     1   \n",
       "3                      0                      1                     0   \n",
       "4                      1                      0                     0   \n",
       "\n",
       "   num-of-cylinders-three  num-of-cylinders-twelve  num-of-cylinders-two  \n",
       "0                       0                        0                     0  \n",
       "1                       0                        0                     0  \n",
       "2                       0                        0                     0  \n",
       "3                       0                        0                     0  \n",
       "4                       0                        0                     0  \n",
       "\n",
       "[5 rows x 39 columns]"
      ]
     },
     "execution_count": 7,
     "metadata": {},
     "output_type": "execute_result"
    }
   ],
   "source": [
    "df = pd.read_csv('clean_df_with_dummy.csv')\n",
    "df.head()"
   ]
  },
  {
   "cell_type": "code",
   "execution_count": 8,
   "metadata": {
    "ExecuteTime": {
     "end_time": "2021-03-01T05:39:26.711231Z",
     "start_time": "2021-03-01T05:39:26.667230Z"
    },
    "scrolled": true
   },
   "outputs": [
    {
     "data": {
      "text/html": [
       "<div>\n",
       "<style scoped>\n",
       "    .dataframe tbody tr th:only-of-type {\n",
       "        vertical-align: middle;\n",
       "    }\n",
       "\n",
       "    .dataframe tbody tr th {\n",
       "        vertical-align: top;\n",
       "    }\n",
       "\n",
       "    .dataframe thead th {\n",
       "        text-align: right;\n",
       "    }\n",
       "</style>\n",
       "<table border=\"1\" class=\"dataframe\">\n",
       "  <thead>\n",
       "    <tr style=\"text-align: right;\">\n",
       "      <th></th>\n",
       "      <th>symboling</th>\n",
       "      <th>normalized-losses</th>\n",
       "      <th>make</th>\n",
       "      <th>body-style</th>\n",
       "      <th>wheel-base</th>\n",
       "      <th>length</th>\n",
       "      <th>width</th>\n",
       "      <th>height</th>\n",
       "      <th>curb-weight</th>\n",
       "      <th>engine-type</th>\n",
       "      <th>...</th>\n",
       "      <th>drive-wheels-4wd</th>\n",
       "      <th>drive-wheels-fwd</th>\n",
       "      <th>drive-wheels-rwd</th>\n",
       "      <th>num-of-cylinders-eight</th>\n",
       "      <th>num-of-cylinders-five</th>\n",
       "      <th>num-of-cylinders-four</th>\n",
       "      <th>num-of-cylinders-six</th>\n",
       "      <th>num-of-cylinders-three</th>\n",
       "      <th>num-of-cylinders-twelve</th>\n",
       "      <th>num-of-cylinders-two</th>\n",
       "    </tr>\n",
       "  </thead>\n",
       "  <tbody>\n",
       "    <tr>\n",
       "      <td>0</td>\n",
       "      <td>3</td>\n",
       "      <td>122</td>\n",
       "      <td>alfa-romero</td>\n",
       "      <td>convertible</td>\n",
       "      <td>88.6</td>\n",
       "      <td>0.811148</td>\n",
       "      <td>0.890278</td>\n",
       "      <td>0.816054</td>\n",
       "      <td>2548</td>\n",
       "      <td>dohc</td>\n",
       "      <td>...</td>\n",
       "      <td>0</td>\n",
       "      <td>0</td>\n",
       "      <td>1</td>\n",
       "      <td>0</td>\n",
       "      <td>0</td>\n",
       "      <td>1</td>\n",
       "      <td>0</td>\n",
       "      <td>0</td>\n",
       "      <td>0</td>\n",
       "      <td>0</td>\n",
       "    </tr>\n",
       "    <tr>\n",
       "      <td>1</td>\n",
       "      <td>3</td>\n",
       "      <td>122</td>\n",
       "      <td>alfa-romero</td>\n",
       "      <td>convertible</td>\n",
       "      <td>88.6</td>\n",
       "      <td>0.811148</td>\n",
       "      <td>0.890278</td>\n",
       "      <td>0.816054</td>\n",
       "      <td>2548</td>\n",
       "      <td>dohc</td>\n",
       "      <td>...</td>\n",
       "      <td>0</td>\n",
       "      <td>0</td>\n",
       "      <td>1</td>\n",
       "      <td>0</td>\n",
       "      <td>0</td>\n",
       "      <td>1</td>\n",
       "      <td>0</td>\n",
       "      <td>0</td>\n",
       "      <td>0</td>\n",
       "      <td>0</td>\n",
       "    </tr>\n",
       "    <tr>\n",
       "      <td>2</td>\n",
       "      <td>1</td>\n",
       "      <td>122</td>\n",
       "      <td>alfa-romero</td>\n",
       "      <td>hatchback</td>\n",
       "      <td>94.5</td>\n",
       "      <td>0.822681</td>\n",
       "      <td>0.909722</td>\n",
       "      <td>0.876254</td>\n",
       "      <td>2823</td>\n",
       "      <td>ohcv</td>\n",
       "      <td>...</td>\n",
       "      <td>0</td>\n",
       "      <td>0</td>\n",
       "      <td>1</td>\n",
       "      <td>0</td>\n",
       "      <td>0</td>\n",
       "      <td>0</td>\n",
       "      <td>1</td>\n",
       "      <td>0</td>\n",
       "      <td>0</td>\n",
       "      <td>0</td>\n",
       "    </tr>\n",
       "    <tr>\n",
       "      <td>3</td>\n",
       "      <td>2</td>\n",
       "      <td>164</td>\n",
       "      <td>audi</td>\n",
       "      <td>sedan</td>\n",
       "      <td>99.8</td>\n",
       "      <td>0.848630</td>\n",
       "      <td>0.919444</td>\n",
       "      <td>0.908027</td>\n",
       "      <td>2337</td>\n",
       "      <td>ohc</td>\n",
       "      <td>...</td>\n",
       "      <td>0</td>\n",
       "      <td>1</td>\n",
       "      <td>0</td>\n",
       "      <td>0</td>\n",
       "      <td>0</td>\n",
       "      <td>1</td>\n",
       "      <td>0</td>\n",
       "      <td>0</td>\n",
       "      <td>0</td>\n",
       "      <td>0</td>\n",
       "    </tr>\n",
       "    <tr>\n",
       "      <td>4</td>\n",
       "      <td>2</td>\n",
       "      <td>164</td>\n",
       "      <td>audi</td>\n",
       "      <td>sedan</td>\n",
       "      <td>99.4</td>\n",
       "      <td>0.848630</td>\n",
       "      <td>0.922222</td>\n",
       "      <td>0.908027</td>\n",
       "      <td>2824</td>\n",
       "      <td>ohc</td>\n",
       "      <td>...</td>\n",
       "      <td>1</td>\n",
       "      <td>0</td>\n",
       "      <td>0</td>\n",
       "      <td>0</td>\n",
       "      <td>1</td>\n",
       "      <td>0</td>\n",
       "      <td>0</td>\n",
       "      <td>0</td>\n",
       "      <td>0</td>\n",
       "      <td>0</td>\n",
       "    </tr>\n",
       "  </tbody>\n",
       "</table>\n",
       "<p>5 rows × 38 columns</p>\n",
       "</div>"
      ],
      "text/plain": [
       "   symboling  normalized-losses         make   body-style  wheel-base  \\\n",
       "0          3                122  alfa-romero  convertible        88.6   \n",
       "1          3                122  alfa-romero  convertible        88.6   \n",
       "2          1                122  alfa-romero    hatchback        94.5   \n",
       "3          2                164         audi        sedan        99.8   \n",
       "4          2                164         audi        sedan        99.4   \n",
       "\n",
       "     length     width    height  curb-weight engine-type  ...  \\\n",
       "0  0.811148  0.890278  0.816054         2548        dohc  ...   \n",
       "1  0.811148  0.890278  0.816054         2548        dohc  ...   \n",
       "2  0.822681  0.909722  0.876254         2823        ohcv  ...   \n",
       "3  0.848630  0.919444  0.908027         2337         ohc  ...   \n",
       "4  0.848630  0.922222  0.908027         2824         ohc  ...   \n",
       "\n",
       "   drive-wheels-4wd drive-wheels-fwd  drive-wheels-rwd  \\\n",
       "0                 0                0                 1   \n",
       "1                 0                0                 1   \n",
       "2                 0                0                 1   \n",
       "3                 0                1                 0   \n",
       "4                 1                0                 0   \n",
       "\n",
       "   num-of-cylinders-eight  num-of-cylinders-five  num-of-cylinders-four  \\\n",
       "0                       0                      0                      1   \n",
       "1                       0                      0                      1   \n",
       "2                       0                      0                      0   \n",
       "3                       0                      0                      1   \n",
       "4                       0                      1                      0   \n",
       "\n",
       "   num-of-cylinders-six  num-of-cylinders-three  num-of-cylinders-twelve  \\\n",
       "0                     0                       0                        0   \n",
       "1                     0                       0                        0   \n",
       "2                     1                       0                        0   \n",
       "3                     0                       0                        0   \n",
       "4                     0                       0                        0   \n",
       "\n",
       "   num-of-cylinders-two  \n",
       "0                     0  \n",
       "1                     0  \n",
       "2                     0  \n",
       "3                     0  \n",
       "4                     0  \n",
       "\n",
       "[5 rows x 38 columns]"
      ]
     },
     "execution_count": 8,
     "metadata": {},
     "output_type": "execute_result"
    }
   ],
   "source": [
    "df.drop(columns='Unnamed: 0',inplace=True)\n",
    "df.head()"
   ]
  },
  {
   "cell_type": "markdown",
   "metadata": {},
   "source": [
    "# Linear Regression"
   ]
  },
  {
   "cell_type": "markdown",
   "metadata": {},
   "source": [
    "## Predict Price against Highway-mpg"
   ]
  },
  {
   "cell_type": "code",
   "execution_count": 22,
   "metadata": {
    "ExecuteTime": {
     "end_time": "2021-03-01T06:50:28.795775Z",
     "start_time": "2021-03-01T06:50:28.775776Z"
    },
    "scrolled": true
   },
   "outputs": [
    {
     "data": {
      "text/plain": [
       "array([16236.50464347, 16236.50464347, 17058.23802179, 13771.3045085 ,\n",
       "       20345.17153508])"
      ]
     },
     "execution_count": 22,
     "metadata": {},
     "output_type": "execute_result"
    }
   ],
   "source": [
    "# making linear regression object for easier calling\n",
    "lr = LinearRegression()\n",
    "\n",
    "# assigning 'highway-mpg' as the independent variable and 'price' as the dependent variable\n",
    "X = df[['highway-mpg']]\n",
    "Y = df['price']\n",
    "lr.fit(X,Y)\n",
    "Yhat = lr.predict(X)\n",
    "Yhat[:5]"
   ]
  },
  {
   "cell_type": "code",
   "execution_count": 127,
   "metadata": {
    "ExecuteTime": {
     "end_time": "2021-03-01T07:50:38.302954Z",
     "start_time": "2021-03-01T07:50:38.281019Z"
    }
   },
   "outputs": [],
   "source": [
    "# above code in function form\n",
    "def linear_regression_modeling(independent_variable,dependent_variable):\n",
    "    # making linear regression object for easier calling\n",
    "    lr = LinearRegression()\n",
    "    # fitting the independent variable(X) and the dependent variable(Y) to Linear Regression \n",
    "    lr.fit(independent_variable,dependent_variable)\n",
    "    # assigning predictions to global variable (Yhat) to be called outside of function, using independent variable(X)\n",
    "    globals() [f'{Yhat}'] = lr.predict(independent_variable)\n",
    "    ##     Yhat = a + bX     ##\n",
    "    # intercept (a)\n",
    "    print(f'The intercept of the regression line is {lr.intercept_}')\n",
    "    # slope (b)\n",
    "    print(f'The slope of the regression line is {lr.coef_}')\n",
    "    \n",
    "    # printing the linear regression formula with variables plugged in\n",
    "    print('\\n\\033[1m𝑌ℎ𝑎𝑡 = 𝑎 + 𝑏𝑋\\nPlugging in the actual values the linear regression formula:\\033[0m')\n",
    "    print(f'\\033[1m{dependent_variable.name}\\033[0m = {lr.intercept_} - {lr.coef_} * \\033[1m({independent_variable.columns[0]})\\033[0m')"
   ]
  },
  {
   "cell_type": "code",
   "execution_count": 130,
   "metadata": {
    "ExecuteTime": {
     "end_time": "2021-03-01T07:57:05.029288Z",
     "start_time": "2021-03-01T07:57:05.016290Z"
    }
   },
   "outputs": [
    {
     "name": "stdout",
     "output_type": "stream",
     "text": [
      "The intercept of the regression line is 38423.3058581574\n",
      "The slope of the regression line is [-821.73337832]\n",
      "\n",
      "\u001b[1m𝑌ℎ𝑎𝑡 = 𝑎 + 𝑏𝑋\n",
      "Plugging in the actual values the linear regression formula:\u001b[0m\n",
      "\u001b[1mprice\u001b[0m = 38423.3058581574 - [-821.73337832] * \u001b[1m(highway-mpg)\u001b[0m\n"
     ]
    }
   ],
   "source": [
    "linear_regression_modeling(df[['highway-mpg']],df['price'])"
   ]
  },
  {
   "cell_type": "markdown",
   "metadata": {},
   "source": [
    "## Predict Price against Engine-size"
   ]
  },
  {
   "cell_type": "code",
   "execution_count": 131,
   "metadata": {
    "ExecuteTime": {
     "end_time": "2021-03-01T07:57:05.955295Z",
     "start_time": "2021-03-01T07:57:05.929290Z"
    }
   },
   "outputs": [
    {
     "name": "stdout",
     "output_type": "stream",
     "text": [
      "The intercept of the regression line is -7963.338906281024\n",
      "The slope of the regression line is [166.86001569]\n",
      "\n",
      "\u001b[1m𝑌ℎ𝑎𝑡 = 𝑎 + 𝑏𝑋\n",
      "Plugging in the actual values the linear regression formula:\u001b[0m\n",
      "\u001b[1mprice\u001b[0m = -7963.338906281024 - [166.86001569] * \u001b[1m(engine-size)\u001b[0m\n"
     ]
    }
   ],
   "source": [
    "linear_regression_modeling(df[['engine-size']],df['price'])"
   ]
  },
  {
   "cell_type": "code",
   "execution_count": 28,
   "metadata": {
    "ExecuteTime": {
     "end_time": "2021-03-01T06:54:37.985696Z",
     "start_time": "2021-03-01T06:54:37.978695Z"
    }
   },
   "outputs": [
    {
     "data": {
      "text/plain": [
       "array([16236.50464347, 16236.50464347, 17058.23802179, 13771.3045085 ,\n",
       "       20345.17153508])"
      ]
     },
     "execution_count": 28,
     "metadata": {},
     "output_type": "execute_result"
    }
   ],
   "source": [
    "Yhat[:5]"
   ]
  },
  {
   "cell_type": "code",
   "execution_count": null,
   "metadata": {},
   "outputs": [],
   "source": []
  }
 ],
 "metadata": {
  "kernelspec": {
   "display_name": "Python 3",
   "language": "python",
   "name": "python3"
  },
  "language_info": {
   "codemirror_mode": {
    "name": "ipython",
    "version": 3
   },
   "file_extension": ".py",
   "mimetype": "text/x-python",
   "name": "python",
   "nbconvert_exporter": "python",
   "pygments_lexer": "ipython3",
   "version": "3.7.4"
  },
  "toc": {
   "base_numbering": 1,
   "nav_menu": {},
   "number_sections": true,
   "sideBar": true,
   "skip_h1_title": false,
   "title_cell": "Table of Contents",
   "title_sidebar": "Contents",
   "toc_cell": false,
   "toc_position": {},
   "toc_section_display": true,
   "toc_window_display": false
  }
 },
 "nbformat": 4,
 "nbformat_minor": 2
}
